{
 "cells": [
  {
   "cell_type": "code",
   "execution_count": null,
   "metadata": {},
   "outputs": [],
   "source": [
    "import pandas as pd\n",
    "import tests"
   ]
  },
  {
   "cell_type": "markdown",
   "metadata": {},
   "source": [
    "# Data Description\n",
    "In these exercises you'll use a data that contains information for tips.\n",
    "\n",
    "Details for the columns:\n",
    "* **total_bill**: a numeric vector, **the bill amount (dollars)**\n",
    "* **tip**: a numeric vector, **the tip amount (dollars)**\n",
    "* **sex**: a factor with levels **\\[Female, Male\\], gender of the payer of the bill**\n",
    "* **smoker**: a factor with levels **\\[No, Yes\\], whether the party included smokers**\n",
    "* **day**: a factor with levels **\\['Sun', 'Sat', 'Thur', 'Fri'\\], day of the week**\n",
    "* **time**: a factor with levels **\\[Dinner, Launch\\], rough time of day**\n",
    "* **size**: a numeric vector, **number of people in party**\n",
    "\n",
    "# Data Source\n",
    "https://github.com/mwaskom/seaborn-data/"
   ]
  },
  {
   "cell_type": "markdown",
   "metadata": {},
   "source": [
    "# Loading the Data\n",
    "Go to this [link](https://raw.githubusercontent.com/mwaskom/seaborn-data/master/tips.csv) to download the tips data.\n",
    "\n",
    "After you download the data, you have to save it in a variable called **tips_data** called **as a pandas DataFrame**. Then you'll use the DataFrame method **head** to **see the first 5 rows** of the data."
   ]
  },
  {
   "cell_type": "code",
   "execution_count": null,
   "metadata": {},
   "outputs": [],
   "source": [
    "# Load the data in a variable called \"tips_data\" as a pandas DataFrame\n",
    "# Your solution here\n",
    "\n",
    "# Print the first 5 rows of the DataFrame\n",
    "tips_data = \n",
    "tips_data.head()"
   ]
  },
  {
   "cell_type": "markdown",
   "metadata": {},
   "source": [
    "Let's see how many rows and columns have our DataFrame. This is solved for you."
   ]
  },
  {
   "cell_type": "code",
   "execution_count": null,
   "metadata": {},
   "outputs": [],
   "source": [
    "tips_data.shape"
   ]
  },
  {
   "cell_type": "markdown",
   "metadata": {},
   "source": [
    "The DataFrame have 244 rows and 7 columns."
   ]
  },
  {
   "cell_type": "markdown",
   "metadata": {},
   "source": [
    "# Exploratory Data Analysis\n",
    "This part will be solved for you."
   ]
  },
  {
   "cell_type": "markdown",
   "metadata": {},
   "source": [
    "## Size"
   ]
  },
  {
   "cell_type": "code",
   "execution_count": null,
   "metadata": {},
   "outputs": [],
   "source": [
    "def print_min_max(column):\n",
    "    print(\"The min value for the column \\\"\" + column + \"\\\" is:\",  tips_data[column].min())\n",
    "    print(\"The max value for the column \\\"\" + column + \"\\\" is:\",  tips_data[column].max())"
   ]
  },
  {
   "cell_type": "code",
   "execution_count": null,
   "metadata": {},
   "outputs": [],
   "source": [
    "print_min_max(\"tip\")\n",
    "print()\n",
    "print_min_max(\"total_bill\")\n",
    "print()\n",
    "print_min_max(\"size\")"
   ]
  },
  {
   "cell_type": "markdown",
   "metadata": {},
   "source": [
    "# Subsetting / Filtering the Data\n",
    "We want **to prevent very long outputs** so use the **.head() method in tests** to print only the **first 5 rows** of your result."
   ]
  },
  {
   "cell_type": "markdown",
   "metadata": {},
   "source": [
    "## Task 1\n",
    "Get all records where **tip is euqal to 10**."
   ]
  },
  {
   "cell_type": "code",
   "execution_count": null,
   "metadata": {},
   "outputs": [],
   "source": [
    "answer = #Your solution here\n",
    "tests.assert_task1(answer)"
   ]
  },
  {
   "cell_type": "markdown",
   "metadata": {},
   "source": [
    "## Task 2\n",
    "Get all records where **number of the people (the size column) is euqal to 5 or 6**. \n",
    "\n",
    "Be careful, the pandas DataFrame object has a method called **\"size\"**. In this case, **we must use the square brackets syntax** to get the **\"size\" column**."
   ]
  },
  {
   "cell_type": "code",
   "execution_count": null,
   "metadata": {},
   "outputs": [],
   "source": [
    "answer = #Your solution here\n",
    "tests.assert_task2(answer)"
   ]
  },
  {
   "cell_type": "markdown",
   "metadata": {},
   "source": [
    "## Task 3\n",
    "Get all records where the **party includes smokers**."
   ]
  },
  {
   "cell_type": "code",
   "execution_count": null,
   "metadata": {
    "scrolled": true
   },
   "outputs": [],
   "source": [
    "answer = #Your solution here\n",
    "tests.assert_task3(answer)"
   ]
  },
  {
   "cell_type": "markdown",
   "metadata": {},
   "source": [
    "## Task 4\n",
    "Get all records where the party **doesn't include smokers**."
   ]
  },
  {
   "cell_type": "code",
   "execution_count": null,
   "metadata": {
    "scrolled": true
   },
   "outputs": [],
   "source": [
    "answer = #Your solution here\n",
    "tests.assert_task4(answer)"
   ]
  },
  {
   "cell_type": "markdown",
   "metadata": {},
   "source": [
    "## Taks 5\n",
    "Get all records where the **tip is equal to 5, 7 or 10**."
   ]
  },
  {
   "cell_type": "code",
   "execution_count": null,
   "metadata": {},
   "outputs": [],
   "source": [
    "answer = #Your solution here\n",
    "tests.assert_task5(answer)"
   ]
  },
  {
   "cell_type": "markdown",
   "metadata": {},
   "source": [
    "## Task 6\n",
    "Get all records where the **day is Saturday or Sunday**. Remember that **the values in the day column** are written like that: **'Sun', 'Sat', 'Thur', 'Fri'**"
   ]
  },
  {
   "cell_type": "code",
   "execution_count": null,
   "metadata": {},
   "outputs": [],
   "source": [
    "answer = #Your solution here\n",
    "tests.assert_task6(answer)"
   ]
  },
  {
   "cell_type": "markdown",
   "metadata": {},
   "source": [
    "## Task 7\n",
    "Get all records where **the number of people is greater than 4** and **the payer of the bill** (the sex column) **is a female**."
   ]
  },
  {
   "cell_type": "code",
   "execution_count": null,
   "metadata": {},
   "outputs": [],
   "source": [
    "answer = #Your solution here\n",
    "tests.assert_task7(answer)"
   ]
  },
  {
   "cell_type": "markdown",
   "metadata": {},
   "source": [
    "## Task 8\n",
    "Get all records where **the total bill is greater than 40** and **the tip is greater than 5**."
   ]
  },
  {
   "cell_type": "code",
   "execution_count": null,
   "metadata": {},
   "outputs": [],
   "source": [
    "answer = #Your solution here\n",
    "tests.assert_task8(answer)"
   ]
  },
  {
   "cell_type": "markdown",
   "metadata": {},
   "source": [
    "## Task 9\n",
    "Get all records where the number of **the people is greater than 4** or **it's a dinner** party (the time column)."
   ]
  },
  {
   "cell_type": "code",
   "execution_count": null,
   "metadata": {},
   "outputs": [],
   "source": [
    "answer = #Your solution here\n",
    "tests.assert_task9(answer)"
   ]
  },
  {
   "cell_type": "markdown",
   "metadata": {},
   "source": [
    "## Task 10\n",
    "Get all records where the **the party doesn't include smokers**, the **total bill is greater than 30**, and the **day is Thurday or Friday**."
   ]
  },
  {
   "cell_type": "code",
   "execution_count": null,
   "metadata": {},
   "outputs": [],
   "source": [
    "answer = #Your solution here\n",
    "tests.assert_task10(answer)"
   ]
  },
  {
   "cell_type": "markdown",
   "metadata": {},
   "source": [
    "## Task 11\n",
    "Get all records where the **day is Friday or Saturday**, the **time is a lunch**, and the **number of the people is less than 4**."
   ]
  },
  {
   "cell_type": "code",
   "execution_count": null,
   "metadata": {},
   "outputs": [],
   "source": [
    "answer = #Your solution here\n",
    "tests.assert_task11(answer)"
   ]
  },
  {
   "cell_type": "markdown",
   "metadata": {},
   "source": [
    "## Task 12"
   ]
  },
  {
   "cell_type": "markdown",
   "metadata": {},
   "source": [
    "Get all records where \n",
    "\n",
    "the **day is Friday**, the **number of the people is less than 3** and the **payer of the bill is a female** \n",
    "\n",
    "or \n",
    "\n",
    "the **day is Sunday**, the **number of the people is greater than 4** and the **payer of the bill is a male**"
   ]
  },
  {
   "cell_type": "code",
   "execution_count": null,
   "metadata": {},
   "outputs": [],
   "source": [
    "answer = #Your solution here\n",
    "tests.assert_task12(answer)"
   ]
  }
 ],
 "metadata": {
  "kernelspec": {
   "display_name": "Python 3",
   "language": "python",
   "name": "python3"
  },
  "language_info": {
   "codemirror_mode": {
    "name": "ipython",
    "version": 3
   },
   "file_extension": ".py",
   "mimetype": "text/x-python",
   "name": "python",
   "nbconvert_exporter": "python",
   "pygments_lexer": "ipython3",
   "version": "3.7.3"
  }
 },
 "nbformat": 4,
 "nbformat_minor": 2
}
